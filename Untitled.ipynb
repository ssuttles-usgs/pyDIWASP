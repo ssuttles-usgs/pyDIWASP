{
 "cells": [
  {
   "cell_type": "code",
   "execution_count": 7,
   "id": "bfc6ecb3-8cf7-4b66-9208-3fa21a40e161",
   "metadata": {},
   "outputs": [],
   "source": [
    "from dirspec import dirspec"
   ]
  },
  {
   "cell_type": "code",
   "execution_count": 8,
   "id": "54b2a33d-0995-4197-8015-92d18b690274",
   "metadata": {},
   "outputs": [
    {
     "ename": "TypeError",
     "evalue": "dirspec() missing 3 required positional arguments: 'ID', 'SM', and 'EP'",
     "output_type": "error",
     "traceback": [
      "\u001b[1;31m---------------------------------------------------------------------------\u001b[0m",
      "\u001b[1;31mTypeError\u001b[0m                                 Traceback (most recent call last)",
      "Cell \u001b[1;32mIn[8], line 1\u001b[0m\n\u001b[1;32m----> 1\u001b[0m \u001b[43mdirspec\u001b[49m\u001b[43m(\u001b[49m\u001b[43m)\u001b[49m\n",
      "\u001b[1;31mTypeError\u001b[0m: dirspec() missing 3 required positional arguments: 'ID', 'SM', and 'EP'"
     ]
    }
   ],
   "source": [
    "dirspec()"
   ]
  }
 ],
 "metadata": {
  "kernelspec": {
   "display_name": "Python 3 (ipykernel)",
   "language": "python",
   "name": "python3"
  },
  "language_info": {
   "codemirror_mode": {
    "name": "ipython",
    "version": 3
   },
   "file_extension": ".py",
   "mimetype": "text/x-python",
   "name": "python",
   "nbconvert_exporter": "python",
   "pygments_lexer": "ipython3",
   "version": "3.11.8"
  }
 },
 "nbformat": 4,
 "nbformat_minor": 5
}
